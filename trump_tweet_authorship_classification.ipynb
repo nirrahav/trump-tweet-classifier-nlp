{
  "nbformat": 4,
  "nbformat_minor": 0,
  "metadata": {
    "colab": {
      "provenance": []
    },
    "kernelspec": {
      "name": "python3",
      "display_name": "Python 3"
    },
    "language_info": {
      "name": "python"
    }
  },
  "cells": [
    {
      "cell_type": "code",
      "execution_count": null,
      "metadata": {
        "id": "kEVPMcrM0uui"
      },
      "outputs": [],
      "source": [
        "# PyTprch and Transformers installation and import\n",
        "# These are preinstalled so you will get \"Requirement already satisfied\" but nevertheless, it is required before you import the relevant packages.\n",
        "# (not needed for the basic classificaiton models)\n",
        "\n",
        "! pip install transformers datasets\n",
        "! pip3 install torch\n",
        "\n",
        "from transformers import AutoModelForSequenceClassification\n",
        "from transformers import TFAutoModelForSequenceClassification\n",
        "from transformers import AutoTokenizer\n",
        "import torch"
      ]
    },
    {
      "cell_type": "code",
      "source": [
        "import numpy as np\n",
        "from scipy.special import softmax\n",
        "import csv\n",
        "import urllib.request\n",
        "import nltk, scipy\n"
      ],
      "metadata": {
        "id": "tkS9XJHo1q9j"
      },
      "execution_count": null,
      "outputs": []
    },
    {
      "cell_type": "markdown",
      "source": [
        "**Algorithmic approaches:**\n",
        "\n",
        "\n",
        "\n",
        "1. [sklearn.linear_model.LogisticRegression](http://scikit-learn.org/stable/modules/generated/sklearn.linear_model.LogisticRegression.html#sklearn.linear_model.LogisticRegression)\n",
        "2. [sklearn.svm.SVC](http://scikit-learn.org/stable/modules/generated/sklearn.svm.SVC.html#sklearn.svm.SVC) (try both linear and nonlinear kernels!)\n",
        "3. FFNN classifier - You should use  the PyTorch library to build a FFNN classifier (with at least one hidden layer) to achieve the classification. Feel free to experiment with the number of layers ([a simple tutorial for FFNN with PyTorch](https://medium.com/biaslyai/pytorch-introduction-to-neural-network-feedforward-neural-network-model-e7231cff47cb)).\n",
        "4. A fourth classifier of choice (neural or not). You are encouraged to experiment with classifiers that allow combining different types of features (e.g. number of capitalized words, time of tweeting, etc.)\n",
        "5. A fifth classifier of your choice  (this should be neural -  RNN, or transformer-based) - feel free to experiment.\n",
        "\n"
      ],
      "metadata": {
        "id": "Qy428MPY1r__"
      }
    },
    {
      "cell_type": "markdown",
      "source": [
        "Your notebook should support the following functions:"
      ],
      "metadata": {
        "id": "JMEN3rBq1_wL"
      }
    },
    {
      "cell_type": "code",
      "source": [
        "def training_pipeline(alg, train_fn):\n",
        "  \"\"\"Returns a trained model given the specific task and algorithm.\n",
        "      The pipeline should include all necessary steps that are needed for the\n",
        "      specified algoritm (preprocessing, normalization, feature extraction - depending\n",
        "      on your choice and decisions). Obviously, it is advised to implement the pipeline\n",
        "      through a sequence of function calls.\n",
        "\n",
        "    Args:\n",
        "\n",
        "        alg (int): an integer between 1-5, indicating the algorithmic approach as\n",
        "                    specified above (1: logistic regression, 2: svm, 3:FFNN, etc.).\n",
        "        train_ fn (str): full path to the file containing the training data.\n",
        "\n",
        "  \"\"\"\n",
        "\n",
        "  return m"
      ],
      "metadata": {
        "id": "Dl2qo-UY2BNX"
      },
      "execution_count": null,
      "outputs": []
    },
    {
      "cell_type": "code",
      "source": [
        "def retrain_best_model():\n",
        "  \"\"\" Retrains and returns the best performing model for the specified task. The\n",
        "      function uses the hard coded settings you have found to work best for each\n",
        "      of the tasks.\n",
        "\n",
        "      Args:\n",
        "\n",
        "  \"\"\"\n",
        "  m = None\n",
        "\n",
        "  return m"
      ],
      "metadata": {
        "id": "fXYZRHxK2MMu"
      },
      "execution_count": null,
      "outputs": []
    },
    {
      "cell_type": "code",
      "source": [
        "def predict(m, fn):\n",
        "  \"\"\" Returns a list of 0s and 1s, corresponding to the lines in the specified file.\n",
        "\n",
        "    Args:\n",
        "      m: the trained model to be used.\n",
        "      fn: the full path to a file in the same format as the test set we have proveded.\n",
        "  \"\"\"\n",
        "\n",
        "  #TODO\n",
        "\n",
        "  return res. #a list containing the predictions"
      ],
      "metadata": {
        "id": "L6L0ZFSQ2Wjf"
      },
      "execution_count": null,
      "outputs": []
    },
    {
      "cell_type": "code",
      "source": [
        "def who_am_i():  # this is not a class method\n",
        "    \"\"\"Returns a list of dictionaries, each dictionary with your name, id number and email. keys=['name', 'id','email']\n",
        "        (If you are submitting solo, the list should contain only one dictionary. If you submit as a team, the list should\n",
        "        contain a dictionary for each team member.)\n",
        "        Make sure you return your own info!\n",
        "    \"\"\"\n",
        "    return [{'name': 'John Doe', 'id': '012345678', 'email': 'jdoe@post.bgu.ac.il'}]"
      ],
      "metadata": {
        "id": "lXtCY3Mc2c4q"
      },
      "execution_count": null,
      "outputs": []
    },
    {
      "cell_type": "code",
      "source": [],
      "metadata": {
        "id": "ZMuIiMA1Uj2f"
      },
      "execution_count": null,
      "outputs": []
    }
  ]
}